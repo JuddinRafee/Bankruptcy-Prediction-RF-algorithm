{
 "cells": [
  {
   "cell_type": "code",
   "execution_count": 1,
   "metadata": {},
   "outputs": [],
   "source": [
    "import numpy as np\n",
    "import pandas as pd\n",
    "import seaborn as sns\n",
    "import matplotlib.pyplot as plt\n",
    "get_ipython().run_line_magic('matplotlib', 'inline')"
   ]
  },
  {
   "cell_type": "code",
   "execution_count": 2,
   "metadata": {},
   "outputs": [],
   "source": [
    "df_train = pd.read_csv(\"C:/Users/User10/Desktop/fyp/dataset/bankruptcyTrain.csv\")"
   ]
  },
  {
   "cell_type": "code",
   "execution_count": 3,
   "metadata": {},
   "outputs": [
    {
     "data": {
      "text/html": [
       "<div>\n",
       "<style scoped>\n",
       "    .dataframe tbody tr th:only-of-type {\n",
       "        vertical-align: middle;\n",
       "    }\n",
       "\n",
       "    .dataframe tbody tr th {\n",
       "        vertical-align: top;\n",
       "    }\n",
       "\n",
       "    .dataframe thead th {\n",
       "        text-align: right;\n",
       "    }\n",
       "</style>\n",
       "<table border=\"1\" class=\"dataframe\">\n",
       "  <thead>\n",
       "    <tr style=\"text-align: right;\">\n",
       "      <th></th>\n",
       "      <th>Attr1</th>\n",
       "      <th>Attr2</th>\n",
       "      <th>Attr3</th>\n",
       "      <th>Attr4</th>\n",
       "      <th>Attr5</th>\n",
       "      <th>Attr6</th>\n",
       "      <th>Attr7</th>\n",
       "      <th>Attr8</th>\n",
       "      <th>Attr9</th>\n",
       "      <th>Attr10</th>\n",
       "      <th>...</th>\n",
       "      <th>Attr56</th>\n",
       "      <th>Attr57</th>\n",
       "      <th>Attr58</th>\n",
       "      <th>Attr59</th>\n",
       "      <th>Attr60</th>\n",
       "      <th>Attr61</th>\n",
       "      <th>Attr62</th>\n",
       "      <th>Attr63</th>\n",
       "      <th>Attr64</th>\n",
       "      <th>target</th>\n",
       "    </tr>\n",
       "  </thead>\n",
       "  <tbody>\n",
       "    <tr>\n",
       "      <th>0</th>\n",
       "      <td>-0.031545</td>\n",
       "      <td>-0.091313</td>\n",
       "      <td>-0.040269</td>\n",
       "      <td>-0.013529</td>\n",
       "      <td>0.007406</td>\n",
       "      <td>-0.016047</td>\n",
       "      <td>-0.000264</td>\n",
       "      <td>0.641242</td>\n",
       "      <td>-0.748385</td>\n",
       "      <td>0.126789</td>\n",
       "      <td>...</td>\n",
       "      <td>0.014367</td>\n",
       "      <td>0.005457</td>\n",
       "      <td>-0.014143</td>\n",
       "      <td>-0.020924</td>\n",
       "      <td>0.068399</td>\n",
       "      <td>-0.214478</td>\n",
       "      <td>-0.013915</td>\n",
       "      <td>-0.173939</td>\n",
       "      <td>-0.046788</td>\n",
       "      <td>0</td>\n",
       "    </tr>\n",
       "    <tr>\n",
       "      <th>1</th>\n",
       "      <td>-0.231729</td>\n",
       "      <td>-0.049448</td>\n",
       "      <td>0.304381</td>\n",
       "      <td>-0.080975</td>\n",
       "      <td>0.007515</td>\n",
       "      <td>-0.016047</td>\n",
       "      <td>-0.034963</td>\n",
       "      <td>0.074710</td>\n",
       "      <td>0.469815</td>\n",
       "      <td>0.073759</td>\n",
       "      <td>...</td>\n",
       "      <td>0.008492</td>\n",
       "      <td>-0.008385</td>\n",
       "      <td>-0.008666</td>\n",
       "      <td>-0.023095</td>\n",
       "      <td>-0.033498</td>\n",
       "      <td>-0.205796</td>\n",
       "      <td>-0.015174</td>\n",
       "      <td>-0.073056</td>\n",
       "      <td>-0.027236</td>\n",
       "      <td>0</td>\n",
       "    </tr>\n",
       "    <tr>\n",
       "      <th>2</th>\n",
       "      <td>-0.058602</td>\n",
       "      <td>0.065060</td>\n",
       "      <td>-0.488404</td>\n",
       "      <td>-0.189489</td>\n",
       "      <td>0.006572</td>\n",
       "      <td>-0.016047</td>\n",
       "      <td>-0.004954</td>\n",
       "      <td>-0.456287</td>\n",
       "      <td>0.270351</td>\n",
       "      <td>-0.071287</td>\n",
       "      <td>...</td>\n",
       "      <td>0.010819</td>\n",
       "      <td>0.006779</td>\n",
       "      <td>-0.009437</td>\n",
       "      <td>-0.007919</td>\n",
       "      <td>-0.043455</td>\n",
       "      <td>0.019740</td>\n",
       "      <td>-0.011736</td>\n",
       "      <td>-0.291624</td>\n",
       "      <td>-0.033580</td>\n",
       "      <td>0</td>\n",
       "    </tr>\n",
       "    <tr>\n",
       "      <th>3</th>\n",
       "      <td>-0.069376</td>\n",
       "      <td>0.044641</td>\n",
       "      <td>-0.181684</td>\n",
       "      <td>-0.140032</td>\n",
       "      <td>0.007477</td>\n",
       "      <td>-0.010915</td>\n",
       "      <td>-0.005599</td>\n",
       "      <td>-0.462971</td>\n",
       "      <td>-0.286746</td>\n",
       "      <td>-0.085266</td>\n",
       "      <td>...</td>\n",
       "      <td>0.010683</td>\n",
       "      <td>0.005384</td>\n",
       "      <td>-0.010840</td>\n",
       "      <td>0.001381</td>\n",
       "      <td>-0.042828</td>\n",
       "      <td>-0.350519</td>\n",
       "      <td>0.002969</td>\n",
       "      <td>-0.554685</td>\n",
       "      <td>-0.046823</td>\n",
       "      <td>0</td>\n",
       "    </tr>\n",
       "    <tr>\n",
       "      <th>4</th>\n",
       "      <td>0.236424</td>\n",
       "      <td>-0.051912</td>\n",
       "      <td>0.678337</td>\n",
       "      <td>-0.014680</td>\n",
       "      <td>0.007879</td>\n",
       "      <td>-0.016047</td>\n",
       "      <td>0.057418</td>\n",
       "      <td>0.097183</td>\n",
       "      <td>0.423405</td>\n",
       "      <td>0.076880</td>\n",
       "      <td>...</td>\n",
       "      <td>0.010970</td>\n",
       "      <td>0.025295</td>\n",
       "      <td>-0.011056</td>\n",
       "      <td>-0.022535</td>\n",
       "      <td>-0.035892</td>\n",
       "      <td>-0.181557</td>\n",
       "      <td>-0.015623</td>\n",
       "      <td>-0.027841</td>\n",
       "      <td>-0.023694</td>\n",
       "      <td>0</td>\n",
       "    </tr>\n",
       "  </tbody>\n",
       "</table>\n",
       "<p>5 rows × 65 columns</p>\n",
       "</div>"
      ],
      "text/plain": [
       "      Attr1     Attr2     Attr3     Attr4     Attr5     Attr6     Attr7  \\\n",
       "0 -0.031545 -0.091313 -0.040269 -0.013529  0.007406 -0.016047 -0.000264   \n",
       "1 -0.231729 -0.049448  0.304381 -0.080975  0.007515 -0.016047 -0.034963   \n",
       "2 -0.058602  0.065060 -0.488404 -0.189489  0.006572 -0.016047 -0.004954   \n",
       "3 -0.069376  0.044641 -0.181684 -0.140032  0.007477 -0.010915 -0.005599   \n",
       "4  0.236424 -0.051912  0.678337 -0.014680  0.007879 -0.016047  0.057418   \n",
       "\n",
       "      Attr8     Attr9    Attr10  ...    Attr56    Attr57    Attr58    Attr59  \\\n",
       "0  0.641242 -0.748385  0.126789  ...  0.014367  0.005457 -0.014143 -0.020924   \n",
       "1  0.074710  0.469815  0.073759  ...  0.008492 -0.008385 -0.008666 -0.023095   \n",
       "2 -0.456287  0.270351 -0.071287  ...  0.010819  0.006779 -0.009437 -0.007919   \n",
       "3 -0.462971 -0.286746 -0.085266  ...  0.010683  0.005384 -0.010840  0.001381   \n",
       "4  0.097183  0.423405  0.076880  ...  0.010970  0.025295 -0.011056 -0.022535   \n",
       "\n",
       "     Attr60    Attr61    Attr62    Attr63    Attr64  target  \n",
       "0  0.068399 -0.214478 -0.013915 -0.173939 -0.046788       0  \n",
       "1 -0.033498 -0.205796 -0.015174 -0.073056 -0.027236       0  \n",
       "2 -0.043455  0.019740 -0.011736 -0.291624 -0.033580       0  \n",
       "3 -0.042828 -0.350519  0.002969 -0.554685 -0.046823       0  \n",
       "4 -0.035892 -0.181557 -0.015623 -0.027841 -0.023694       0  \n",
       "\n",
       "[5 rows x 65 columns]"
      ]
     },
     "execution_count": 3,
     "metadata": {},
     "output_type": "execute_result"
    }
   ],
   "source": [
    "df_train.head()"
   ]
  },
  {
   "cell_type": "code",
   "execution_count": 4,
   "metadata": {},
   "outputs": [
    {
     "name": "stdout",
     "output_type": "stream",
     "text": [
      "Class 0: 9797\n",
      "Class 1: 203\n",
      "Proportion: 48.26 : 1\n"
     ]
    },
    {
     "data": {
      "image/png": "[encoded data removed]",
      "text/plain": [
       "<Figure size 432x288 with 1 Axes>"
      ]
     },
     "metadata": {
      "needs_background": "light"
     },
     "output_type": "display_data"
    }
   ],
   "source": [
    "target_count = df_train.target.value_counts()\n",
    "print('Class 0:', target_count[0])\n",
    "print('Class 1:', target_count[1])\n",
    "print('Proportion:', round(target_count[0] / target_count[1], 2), ': 1')\n",
    "\n",
    "target_count.plot(kind='bar', title='Count (target)',color=['black', 'red']);\n"
   ]
  },
  {
   "cell_type": "code",
   "execution_count": 5,
   "metadata": {},
   "outputs": [
    {
     "data": {
      "text/plain": [
       "Index(['Attr1', 'Attr2', 'Attr3', 'Attr4', 'Attr5', 'Attr6', 'Attr7', 'Attr8',\n",
       "       'Attr9', 'Attr10', 'Attr11', 'Attr12', 'Attr13', 'Attr14', 'Attr15',\n",
       "       'Attr16', 'Attr17', 'Attr18', 'Attr19', 'Attr20', 'Attr21', 'Attr22',\n",
       "       'Attr23', 'Attr24', 'Attr25', 'Attr26', 'Attr27', 'Attr28', 'Attr29',\n",
       "       'Attr30', 'Attr31', 'Attr32', 'Attr33', 'Attr34', 'Attr35', 'Attr36',\n",
       "       'Attr37', 'Attr38', 'Attr39', 'Attr40', 'Attr41', 'Attr42', 'Attr43',\n",
       "       'Attr44', 'Attr45', 'Attr46', 'Attr47', 'Attr48', 'Attr49', 'Attr50',\n",
       "       'Attr51', 'Attr52', 'Attr53', 'Attr54', 'Attr55', 'Attr56', 'Attr57',\n",
       "       'Attr58', 'Attr59', 'Attr60', 'Attr61', 'Attr62', 'Attr63', 'Attr64'],\n",
       "      dtype='object')"
      ]
     },
     "execution_count": 5,
     "metadata": {},
     "output_type": "execute_result"
    }
   ],
   "source": [
    "labels = df_train.columns[0:64]\n",
    "x = df_train[labels]\n",
    "y = df_train['target']\n",
    "labels"
   ]
  },
  {
   "cell_type": "code",
   "execution_count": 6,
   "metadata": {},
   "outputs": [
    {
     "name": "stdout",
     "output_type": "stream",
     "text": [
      "Number transactions X_train dataset:  (8000, 64)\n",
      "Number transactions y_train dataset:  (8000,)\n",
      "Number transactions X_test dataset:  (2000, 64)\n",
      "Number transactions y_test dataset:  (2000,)\n"
     ]
    }
   ],
   "source": [
    "from sklearn.model_selection import train_test_split\n",
    "\n",
    "x_train, x_test, y_train, y_test = train_test_split(x,y, test_size = 0.2, random_state = 0)\n",
    "\n",
    "print(\"Number transactions X_train dataset: \", x_train.shape)\n",
    "print(\"Number transactions y_train dataset: \", y_train.shape)\n",
    "print(\"Number transactions X_test dataset: \", x_test.shape)\n",
    "print(\"Number transactions y_test dataset: \", y_test.shape)\n"
   ]
  },
  {
   "cell_type": "code",
   "execution_count": 7,
   "metadata": {},
   "outputs": [],
   "source": [
    "from sklearn.model_selection import train_test_split\n",
    "from sklearn.ensemble import RandomForestClassifier\n",
    "from sklearn.feature_selection import SelectFromModel\n",
    "from sklearn.metrics import accuracy_score"
   ]
  },
  {
   "cell_type": "code",
   "execution_count": 8,
   "metadata": {},
   "outputs": [],
   "source": [
    "def run_randomForest(x_train, x_test, y_train, y_test):\n",
    "    clf = RandomForestClassifier(n_estimators=100, random_state=0, n_jobs=-1)\n",
    "    clf.fit(x_train, y_train)\n",
    "    y_pred = clf.predict(x_test)\n",
    "    print('Accuracy: ',accuracy_score(y_test, y_pred))"
   ]
  },
  {
   "cell_type": "code",
   "execution_count": 9,
   "metadata": {},
   "outputs": [
    {
     "data": {
      "text/plain": [
       "RandomForestClassifier()"
      ]
     },
     "execution_count": 9,
     "metadata": {},
     "output_type": "execute_result"
    }
   ],
   "source": [
    "model = RandomForestClassifier(n_estimators= 100)\n",
    "model.fit(x_train, y_train.values.ravel())"
   ]
  },
  {
   "cell_type": "code",
   "execution_count": 10,
   "metadata": {},
   "outputs": [
    {
     "name": "stdout",
     "output_type": "stream",
     "text": [
      "Accuracy: 97.40%\n"
     ]
    }
   ],
   "source": [
    "test_accuracy = model.score(x_test,y_test)\n",
    "print(\"Accuracy: %.2f%%\" % (test_accuracy * 100.0))"
   ]
  },
  {
   "cell_type": "code",
   "execution_count": 11,
   "metadata": {},
   "outputs": [
    {
     "name": "stdout",
     "output_type": "stream",
     "text": [
      "Accuracy: 97.40%\n"
     ]
    }
   ],
   "source": [
    "y_pred = model.predict(x_test)\n",
    "\n",
    "accuracy = accuracy_score(y_test, y_pred)\n",
    "print(\"Accuracy: %.2f%%\" % (accuracy * 100.0))"
   ]
  },
  {
   "cell_type": "code",
   "execution_count": 12,
   "metadata": {},
   "outputs": [
    {
     "name": "stdout",
     "output_type": "stream",
     "text": [
      "Confusion matrix:\n",
      " [[1946    2]\n",
      " [  50    2]]\n"
     ]
    },
    {
     "data": {
      "image/png": "[encoded data removed]",
      "text/plain": [
       "<Figure size 432x288 with 2 Axes>"
      ]
     },
     "metadata": {
      "needs_background": "light"
     },
     "output_type": "display_data"
    }
   ],
   "source": [
    "from sklearn.metrics import confusion_matrix\n",
    "from matplotlib import pyplot as plt\n",
    "\n",
    "conf_mat = confusion_matrix(y_true=y_test, y_pred=y_pred)\n",
    "print('Confusion matrix:\\n', conf_mat)\n",
    "\n",
    "labels = ['Class 0', 'Class 1']\n",
    "fig = plt.figure()\n",
    "ax = fig.add_subplot(111)\n",
    "cax = ax.matshow(conf_mat, cmap=plt.cm.Blues)\n",
    "fig.colorbar(cax)\n",
    "ax.set_xticklabels([''] + labels)\n",
    "ax.set_yticklabels([''] + labels)\n",
    "plt.xlabel('Predicted')\n",
    "plt.ylabel('Expected')\n",
    "plt.show()"
   ]
  },
  {
   "cell_type": "code",
   "execution_count": 13,
   "metadata": {},
   "outputs": [],
   "source": [
    "#Oversampling\n",
    "\n",
    "from imblearn.over_sampling import SMOTE"
   ]
  },
  {
   "cell_type": "code",
   "execution_count": 14,
   "metadata": {},
   "outputs": [
    {
     "name": "stdout",
     "output_type": "stream",
     "text": [
      "Number transactions X_train dataset:  (8000, 64)\n",
      "Number transactions y_train dataset:  (8000,)\n",
      "Number transactions X_test dataset:  (2000, 64)\n",
      "Number transactions y_test dataset:  (2000,)\n"
     ]
    }
   ],
   "source": [
    "print(\"Number transactions X_train dataset: \", x_train.shape)\n",
    "print(\"Number transactions y_train dataset: \", y_train.shape)\n",
    "print(\"Number transactions X_test dataset: \", x_test.shape)\n",
    "print(\"Number transactions y_test dataset: \", y_test.shape)"
   ]
  },
  {
   "cell_type": "code",
   "execution_count": 15,
   "metadata": {},
   "outputs": [
    {
     "name": "stdout",
     "output_type": "stream",
     "text": [
      "Before OverSampling, counts of label '1': 151\n",
      "Before OverSampling, counts of label '0': 7849 \n",
      "\n",
      "After OverSampling, the shape of train_X: (15698, 64)\n",
      "After OverSampling, the shape of train_y: (15698,) \n",
      "\n",
      "After OverSampling, counts of label '1': 7849\n",
      "After OverSampling, counts of label '0': 7849\n"
     ]
    },
    {
     "data": {
      "image/png": "[encoded data removed]",
      "text/plain": [
       "<Figure size 432x288 with 1 Axes>"
      ]
     },
     "metadata": {
      "needs_background": "light"
     },
     "output_type": "display_data"
    },
    {
     "data": {
      "image/png": "[encoded data removed]",
      "text/plain": [
       "<Figure size 432x288 with 1 Axes>"
      ]
     },
     "metadata": {
      "needs_background": "light"
     },
     "output_type": "display_data"
    }
   ],
   "source": [
    "print(\"Before OverSampling, counts of label '1': {}\".format(sum(y_train==1)))\n",
    "print(\"Before OverSampling, counts of label '0': {} \\n\".format(sum(y_train==0)))\n",
    "\n",
    "sm = SMOTE(random_state=2)\n",
    "x_train_res, y_train_res = sm.fit_sample(x_train, y_train.ravel())\n",
    "\n",
    "print('After OverSampling, the shape of train_X: {}'.format(x_train_res.shape))\n",
    "print('After OverSampling, the shape of train_y: {} \\n'.format(y_train_res.shape))\n",
    "\n",
    "print(\"After OverSampling, counts of label '1': {}\".format(sum(y_train_res==1)))\n",
    "print(\"After OverSampling, counts of label '0': {}\".format(sum(y_train_res==0)))\n",
    "\n",
    "y1 = [7849,151]\n",
    "x1 = [0,1]\n",
    "plt.bar(x1,y1,color=['black', 'red'])\n",
    "plt.xticks(x1)\n",
    "plt.title('Count (target) before over-sampling')\n",
    "plt.show()\n",
    "y = [7849,7849]\n",
    "x = [0,1]\n",
    "plt.bar(x,y,color=['black', 'red'])\n",
    "plt.xticks(x)\n",
    "plt.title('Count (target) after over-sampling')\n",
    "plt.show()\n"
   ]
  },
  {
   "cell_type": "code",
   "execution_count": 16,
   "metadata": {},
   "outputs": [
    {
     "data": {
      "text/plain": [
       "RandomForestClassifier()"
      ]
     },
     "execution_count": 16,
     "metadata": {},
     "output_type": "execute_result"
    }
   ],
   "source": [
    "model_res = RandomForestClassifier(n_estimators= 100)\n",
    "model_res.fit(x_train_res, y_train_res)"
   ]
  },
  {
   "cell_type": "code",
   "execution_count": 17,
   "metadata": {},
   "outputs": [
    {
     "name": "stdout",
     "output_type": "stream",
     "text": [
      "Accuracy: 96.75%\n"
     ]
    }
   ],
   "source": [
    "test_accuracy = model_res.score(x_test,y_test)\n",
    "print(\"Accuracy: %.2f%%\" % (test_accuracy * 100.0))"
   ]
  },
  {
   "cell_type": "code",
   "execution_count": 18,
   "metadata": {},
   "outputs": [
    {
     "name": "stdout",
     "output_type": "stream",
     "text": [
      "Accuracy: 96.75%\n"
     ]
    }
   ],
   "source": [
    "y_pred = model_res.predict(x_test)\n",
    "\n",
    "accuracy = accuracy_score(y_test, y_pred)\n",
    "print(\"Accuracy: %.2f%%\" % (accuracy * 100.0))"
   ]
  },
  {
   "cell_type": "code",
   "execution_count": 19,
   "metadata": {},
   "outputs": [
    {
     "name": "stdout",
     "output_type": "stream",
     "text": [
      "Confusion matrix:\n",
      " [[1923   25]\n",
      " [  40   12]]\n"
     ]
    },
    {
     "data": {
      "image/png": "[encoded data removed]",
      "text/plain": [
       "<Figure size 432x288 with 2 Axes>"
      ]
     },
     "metadata": {
      "needs_background": "light"
     },
     "output_type": "display_data"
    }
   ],
   "source": [
    "from sklearn.metrics import confusion_matrix\n",
    "from matplotlib import pyplot as plt\n",
    "\n",
    "conf_mat = confusion_matrix(y_true=y_test, y_pred=y_pred)\n",
    "print('Confusion matrix:\\n', conf_mat)\n",
    "\n",
    "labels = ['Class 0', 'Class 1']\n",
    "fig = plt.figure()\n",
    "ax = fig.add_subplot(111)\n",
    "cax = ax.matshow(conf_mat, cmap=plt.cm.Blues)\n",
    "fig.colorbar(cax)\n",
    "ax.set_xticklabels([''] + labels)\n",
    "ax.set_yticklabels([''] + labels)\n",
    "plt.xlabel('Predicted')\n",
    "plt.ylabel('Expected')\n",
    "plt.show()"
   ]
  },
  {
   "cell_type": "code",
   "execution_count": 20,
   "metadata": {},
   "outputs": [
    {
     "name": "stdout",
     "output_type": "stream",
     "text": [
      "Selected Feature :  1\n",
      "Accuracy:  0.9665\n",
      "\n",
      "Selected Feature :  2\n",
      "Accuracy:  0.9725\n",
      "\n",
      "Selected Feature :  3\n",
      "Accuracy:  0.973\n",
      "\n",
      "Selected Feature :  4\n",
      "Accuracy:  0.9725\n",
      "\n",
      "Selected Feature :  5\n",
      "Accuracy:  0.972\n",
      "\n",
      "Selected Feature :  6\n",
      "Accuracy:  0.9745\n",
      "\n",
      "Selected Feature :  7\n",
      "Accuracy:  0.9745\n",
      "\n",
      "Selected Feature :  8\n",
      "Accuracy:  0.974\n",
      "\n",
      "Selected Feature :  9\n",
      "Accuracy:  0.974\n",
      "\n",
      "Selected Feature :  10\n",
      "Accuracy:  0.9755\n",
      "\n",
      "Selected Feature :  11\n",
      "Accuracy:  0.9735\n",
      "\n",
      "Selected Feature :  12\n",
      "Accuracy:  0.9755\n",
      "\n",
      "Selected Feature :  13\n",
      "Accuracy:  0.9735\n",
      "\n",
      "Selected Feature :  14\n",
      "Accuracy:  0.974\n",
      "\n",
      "Selected Feature :  15\n",
      "Accuracy:  0.9745\n",
      "\n",
      "Selected Feature :  16\n",
      "Accuracy:  0.974\n",
      "\n",
      "Selected Feature :  17\n",
      "Accuracy:  0.975\n",
      "\n",
      "Selected Feature :  18\n",
      "Accuracy:  0.9745\n",
      "\n",
      "Selected Feature :  19\n",
      "Accuracy:  0.975\n",
      "\n",
      "Selected Feature :  20\n",
      "Accuracy:  0.974\n",
      "\n",
      "Selected Feature :  21\n",
      "Accuracy:  0.974\n",
      "\n",
      "Selected Feature :  22\n",
      "Accuracy:  0.975\n",
      "\n",
      "Selected Feature :  23\n",
      "Accuracy:  0.9735\n",
      "\n",
      "Selected Feature :  24\n",
      "Accuracy:  0.9745\n",
      "\n",
      "Selected Feature :  25\n",
      "Accuracy:  0.9735\n",
      "\n",
      "Selected Feature :  26\n",
      "Accuracy:  0.973\n",
      "\n",
      "Selected Feature :  27\n",
      "Accuracy:  0.974\n",
      "\n",
      "Selected Feature :  28\n",
      "Accuracy:  0.9735\n",
      "\n",
      "Selected Feature :  29\n",
      "Accuracy:  0.9735\n",
      "\n",
      "Selected Feature :  30\n",
      "Accuracy:  0.974\n",
      "\n",
      "Selected Feature :  31\n",
      "Accuracy:  0.974\n",
      "\n",
      "Selected Feature :  32\n",
      "Accuracy:  0.9735\n",
      "\n",
      "Selected Feature :  33\n",
      "Accuracy:  0.9735\n",
      "\n",
      "Selected Feature :  34\n",
      "Accuracy:  0.9735\n",
      "\n",
      "Selected Feature :  35\n",
      "Accuracy:  0.9735\n",
      "\n",
      "Selected Feature :  36\n",
      "Accuracy:  0.9735\n",
      "\n",
      "Selected Feature :  37\n",
      "Accuracy:  0.9735\n",
      "\n",
      "Selected Feature :  38\n",
      "Accuracy:  0.9735\n",
      "\n",
      "Selected Feature :  39\n",
      "Accuracy:  0.9735\n",
      "\n",
      "Selected Feature :  40\n",
      "Accuracy:  0.9735\n",
      "\n",
      "Selected Feature :  41\n",
      "Accuracy:  0.9735\n",
      "\n",
      "Selected Feature :  42\n",
      "Accuracy:  0.9735\n",
      "\n",
      "Selected Feature :  43\n",
      "Accuracy:  0.974\n",
      "\n",
      "Selected Feature :  44\n",
      "Accuracy:  0.9735\n",
      "\n",
      "Selected Feature :  45\n",
      "Accuracy:  0.9735\n",
      "\n",
      "Selected Feature :  46\n",
      "Accuracy:  0.9735\n",
      "\n",
      "Selected Feature :  47\n",
      "Accuracy:  0.9735\n",
      "\n",
      "Selected Feature :  48\n",
      "Accuracy:  0.973\n",
      "\n",
      "Selected Feature :  49\n",
      "Accuracy:  0.9735\n",
      "\n",
      "Selected Feature :  50\n",
      "Accuracy:  0.9735\n",
      "\n",
      "Selected Feature :  51\n",
      "Accuracy:  0.9735\n",
      "\n",
      "Selected Feature :  52\n",
      "Accuracy:  0.9735\n",
      "\n",
      "Selected Feature :  53\n",
      "Accuracy:  0.9735\n",
      "\n",
      "Selected Feature :  54\n",
      "Accuracy:  0.9735\n",
      "\n",
      "Selected Feature :  55\n",
      "Accuracy:  0.9735\n",
      "\n",
      "Selected Feature :  56\n",
      "Accuracy:  0.9735\n",
      "\n",
      "Selected Feature :  57\n",
      "Accuracy:  0.973\n",
      "\n",
      "Selected Feature :  58\n",
      "Accuracy:  0.9735\n",
      "\n",
      "Selected Feature :  59\n",
      "Accuracy:  0.9735\n",
      "\n",
      "Selected Feature :  60\n",
      "Accuracy:  0.9735\n",
      "\n",
      "Selected Feature :  61\n",
      "Accuracy:  0.9735\n",
      "\n",
      "Selected Feature :  62\n",
      "Accuracy:  0.9735\n",
      "\n",
      "Selected Feature :  63\n",
      "Accuracy:  0.974\n",
      "\n",
      "Selected Feature :  64\n",
      "Accuracy:  0.9735\n",
      "\n"
     ]
    }
   ],
   "source": [
    "#selectedFeature before oversampling\n",
    "from sklearn.feature_selection import RFE\n",
    "for index in range(1, 65):\n",
    "    sel = RFE(RandomForestClassifier(n_estimators=100, random_state=0, n_jobs=-1), n_features_to_select = index)\n",
    "    sel.fit(x_train, y_train.values.ravel())\n",
    "    x_train_rfe = sel.transform(x_train)\n",
    "    x_test_rfe = sel.transform(x_test)\n",
    "    print('Selected Feature : ', index)\n",
    "    run_randomForest(x_train_rfe, x_test_rfe, y_train.values.ravel(), y_test.values.ravel())\n",
    "    print()\n"
   ]
  },
  {
   "cell_type": "code",
   "execution_count": 21,
   "metadata": {},
   "outputs": [
    {
     "name": "stdout",
     "output_type": "stream",
     "text": [
      "Selected Feature :  1\n",
      "Accuracy:  0.6545\n",
      "\n",
      "Selected Feature :  2\n",
      "Accuracy:  0.7875\n",
      "\n",
      "Selected Feature :  3\n",
      "Accuracy:  0.8185\n",
      "\n",
      "Selected Feature :  4\n",
      "Accuracy:  0.856\n",
      "\n",
      "Selected Feature :  5\n",
      "Accuracy:  0.883\n",
      "\n",
      "Selected Feature :  6\n",
      "Accuracy:  0.903\n",
      "\n",
      "Selected Feature :  7\n",
      "Accuracy:  0.9125\n",
      "\n",
      "Selected Feature :  8\n",
      "Accuracy:  0.9175\n",
      "\n",
      "Selected Feature :  9\n",
      "Accuracy:  0.9435\n",
      "\n",
      "Selected Feature :  10\n",
      "Accuracy:  0.95\n",
      "\n",
      "Selected Feature :  11\n",
      "Accuracy:  0.949\n",
      "\n",
      "Selected Feature :  12\n",
      "Accuracy:  0.9515\n",
      "\n",
      "Selected Feature :  13\n",
      "Accuracy:  0.951\n",
      "\n",
      "Selected Feature :  14\n",
      "Accuracy:  0.957\n",
      "\n",
      "Selected Feature :  15\n",
      "Accuracy:  0.9545\n",
      "\n",
      "Selected Feature :  16\n",
      "Accuracy:  0.957\n",
      "\n",
      "Selected Feature :  17\n",
      "Accuracy:  0.958\n",
      "\n",
      "Selected Feature :  18\n",
      "Accuracy:  0.9595\n",
      "\n",
      "Selected Feature :  19\n",
      "Accuracy:  0.9585\n",
      "\n",
      "Selected Feature :  20\n",
      "Accuracy:  0.9605\n",
      "\n",
      "Selected Feature :  21\n",
      "Accuracy:  0.9565\n",
      "\n",
      "Selected Feature :  22\n",
      "Accuracy:  0.961\n",
      "\n",
      "Selected Feature :  23\n",
      "Accuracy:  0.96\n",
      "\n",
      "Selected Feature :  24\n",
      "Accuracy:  0.963\n",
      "\n",
      "Selected Feature :  25\n",
      "Accuracy:  0.9615\n",
      "\n",
      "Selected Feature :  26\n",
      "Accuracy:  0.9615\n",
      "\n",
      "Selected Feature :  27\n",
      "Accuracy:  0.964\n",
      "\n",
      "Selected Feature :  28\n",
      "Accuracy:  0.964\n",
      "\n",
      "Selected Feature :  29\n",
      "Accuracy:  0.965\n",
      "\n",
      "Selected Feature :  30\n",
      "Accuracy:  0.964\n",
      "\n",
      "Selected Feature :  31\n",
      "Accuracy:  0.964\n",
      "\n",
      "Selected Feature :  32\n",
      "Accuracy:  0.967\n",
      "\n",
      "Selected Feature :  33\n",
      "Accuracy:  0.966\n",
      "\n",
      "Selected Feature :  34\n",
      "Accuracy:  0.966\n",
      "\n",
      "Selected Feature :  35\n",
      "Accuracy:  0.9645\n",
      "\n",
      "Selected Feature :  36\n",
      "Accuracy:  0.963\n",
      "\n",
      "Selected Feature :  37\n",
      "Accuracy:  0.966\n",
      "\n",
      "Selected Feature :  38\n",
      "Accuracy:  0.9675\n",
      "\n",
      "Selected Feature :  39\n",
      "Accuracy:  0.9665\n",
      "\n",
      "Selected Feature :  40\n",
      "Accuracy:  0.964\n",
      "\n",
      "Selected Feature :  41\n",
      "Accuracy:  0.9665\n",
      "\n",
      "Selected Feature :  42\n",
      "Accuracy:  0.967\n",
      "\n",
      "Selected Feature :  43\n",
      "Accuracy:  0.9665\n",
      "\n",
      "Selected Feature :  44\n",
      "Accuracy:  0.9655\n",
      "\n",
      "Selected Feature :  45\n",
      "Accuracy:  0.9665\n",
      "\n",
      "Selected Feature :  46\n",
      "Accuracy:  0.9655\n",
      "\n",
      "Selected Feature :  47\n",
      "Accuracy:  0.9665\n",
      "\n",
      "Selected Feature :  48\n",
      "Accuracy:  0.965\n",
      "\n",
      "Selected Feature :  49\n",
      "Accuracy:  0.962\n",
      "\n",
      "Selected Feature :  50\n",
      "Accuracy:  0.9645\n",
      "\n",
      "Selected Feature :  51\n",
      "Accuracy:  0.9655\n",
      "\n",
      "Selected Feature :  52\n",
      "Accuracy:  0.967\n",
      "\n",
      "Selected Feature :  53\n",
      "Accuracy:  0.963\n",
      "\n",
      "Selected Feature :  54\n",
      "Accuracy:  0.965\n",
      "\n",
      "Selected Feature :  55\n",
      "Accuracy:  0.964\n",
      "\n",
      "Selected Feature :  56\n",
      "Accuracy:  0.965\n",
      "\n",
      "Selected Feature :  57\n",
      "Accuracy:  0.9675\n",
      "\n",
      "Selected Feature :  58\n",
      "Accuracy:  0.9665\n",
      "\n",
      "Selected Feature :  59\n",
      "Accuracy:  0.9665\n",
      "\n",
      "Selected Feature :  60\n",
      "Accuracy:  0.967\n",
      "\n",
      "Selected Feature :  61\n",
      "Accuracy:  0.967\n",
      "\n",
      "Selected Feature :  62\n",
      "Accuracy:  0.966\n",
      "\n",
      "Selected Feature :  63\n",
      "Accuracy:  0.9655\n",
      "\n",
      "Selected Feature :  64\n",
      "Accuracy:  0.9665\n",
      "\n"
     ]
    }
   ],
   "source": [
    "#Selected Feature after oversampling\n",
    "\n",
    "for index in range(1, 65):\n",
    "    sel = RFE(RandomForestClassifier(n_estimators=100, random_state=0, n_jobs=-1), n_features_to_select = index)\n",
    "    sel.fit(x_train_res, y_train_res)\n",
    "    x_train_rfe = sel.transform(x_train_res)\n",
    "    x_test_rfe = sel.transform(x_test)\n",
    "    print('Selected Feature : ', index)\n",
    "    run_randomForest(x_train_rfe, x_test_rfe, y_train_res, y_test.values.ravel())\n",
    "    print()\n"
   ]
  },
  {
   "cell_type": "code",
   "execution_count": 22,
   "metadata": {},
   "outputs": [
    {
     "name": "stdout",
     "output_type": "stream",
     "text": [
      "Selected Feature :  64\n",
      "Accuracy:  0.9665\n",
      "\n"
     ]
    }
   ],
   "source": [
    "sel = RFE(RandomForestClassifier(n_estimators=100, random_state=0, n_jobs=-1), n_features_to_select = 64)\n",
    "sel.fit(x_train_res, y_train_res)\n",
    "x_train_rfe = sel.transform(x_train_res)\n",
    "x_test_rfe = sel.transform(x_test)\n",
    "print('Selected Feature : ', 64)\n",
    "run_randomForest(x_train_rfe, x_test_rfe, y_train_res, y_test.values.ravel())\n",
    "print()"
   ]
  },
  {
   "cell_type": "code",
   "execution_count": 23,
   "metadata": {},
   "outputs": [
    {
     "data": {
      "text/plain": [
       "Index(['Attr1', 'Attr2', 'Attr3', 'Attr4', 'Attr5', 'Attr6', 'Attr7', 'Attr8',\n",
       "       'Attr9', 'Attr10', 'Attr11', 'Attr12', 'Attr13', 'Attr14', 'Attr15',\n",
       "       'Attr16', 'Attr17', 'Attr18', 'Attr19', 'Attr20', 'Attr21', 'Attr22',\n",
       "       'Attr23', 'Attr24', 'Attr25', 'Attr26', 'Attr27', 'Attr28', 'Attr29',\n",
       "       'Attr30', 'Attr31', 'Attr32', 'Attr33', 'Attr34', 'Attr35', 'Attr36',\n",
       "       'Attr37', 'Attr38', 'Attr39', 'Attr40', 'Attr41', 'Attr42', 'Attr43',\n",
       "       'Attr44', 'Attr45', 'Attr46', 'Attr47', 'Attr48', 'Attr49', 'Attr50',\n",
       "       'Attr51', 'Attr52', 'Attr53', 'Attr54', 'Attr55', 'Attr56', 'Attr57',\n",
       "       'Attr58', 'Attr59', 'Attr60', 'Attr61', 'Attr62', 'Attr63', 'Attr64'],\n",
       "      dtype='object')"
      ]
     },
     "execution_count": 23,
     "metadata": {},
     "output_type": "execute_result"
    }
   ],
   "source": [
    "features = x_train_res.columns[sel.get_support()]\n",
    "features\n"
   ]
  },
  {
   "cell_type": "code",
   "execution_count": 24,
   "metadata": {},
   "outputs": [
    {
     "name": "stdout",
     "output_type": "stream",
     "text": [
      "Selected Feature :  54\n",
      "Accuracy:  0.965\n",
      "\n"
     ]
    }
   ],
   "source": [
    "sel = RFE(RandomForestClassifier(n_estimators=100, random_state=0, n_jobs=-1), n_features_to_select = 54)\n",
    "sel.fit(x_train_res, y_train_res)\n",
    "x_train_rfe = sel.transform(x_train_res)\n",
    "x_test_rfe = sel.transform(x_test)\n",
    "print('Selected Feature : ', 54)\n",
    "run_randomForest(x_train_rfe, x_test_rfe, y_train_res, y_test.values.ravel())\n",
    "print()"
   ]
  },
  {
   "cell_type": "code",
   "execution_count": 25,
   "metadata": {},
   "outputs": [
    {
     "data": {
      "text/plain": [
       "Index(['Attr1', 'Attr2', 'Attr3', 'Attr5', 'Attr6', 'Attr7', 'Attr8', 'Attr9',\n",
       "       'Attr10', 'Attr12', 'Attr13', 'Attr15', 'Attr16', 'Attr17', 'Attr18',\n",
       "       'Attr19', 'Attr20', 'Attr21', 'Attr23', 'Attr24', 'Attr25', 'Attr26',\n",
       "       'Attr27', 'Attr29', 'Attr30', 'Attr32', 'Attr34', 'Attr35', 'Attr37',\n",
       "       'Attr38', 'Attr39', 'Attr40', 'Attr41', 'Attr42', 'Attr44', 'Attr45',\n",
       "       'Attr46', 'Attr47', 'Attr48', 'Attr49', 'Attr50', 'Attr51', 'Attr52',\n",
       "       'Attr53', 'Attr54', 'Attr55', 'Attr56', 'Attr57', 'Attr58', 'Attr59',\n",
       "       'Attr61', 'Attr62', 'Attr63', 'Attr64'],\n",
       "      dtype='object')"
      ]
     },
     "execution_count": 25,
     "metadata": {},
     "output_type": "execute_result"
    }
   ],
   "source": [
    "features = x_train_res.columns[sel.get_support()]\n",
    "features"
   ]
  },
  {
   "cell_type": "code",
   "execution_count": 26,
   "metadata": {},
   "outputs": [
    {
     "name": "stdout",
     "output_type": "stream",
     "text": [
      "Selected Feature :  41\n",
      "Accuracy:  0.9665\n",
      "\n"
     ]
    }
   ],
   "source": [
    "sel = RFE(RandomForestClassifier(n_estimators=100, random_state=0, n_jobs=-1), n_features_to_select = 41)\n",
    "sel.fit(x_train_res, y_train_res)\n",
    "x_train_rfe = sel.transform(x_train_res)\n",
    "x_test_rfe = sel.transform(x_test)\n",
    "print('Selected Feature : ', 41)\n",
    "run_randomForest(x_train_rfe, x_test_rfe, y_train_res, y_test.values.ravel())\n",
    "print()"
   ]
  },
  {
   "cell_type": "code",
   "execution_count": 27,
   "metadata": {},
   "outputs": [
    {
     "data": {
      "text/plain": [
       "Index(['Attr1', 'Attr2', 'Attr5', 'Attr6', 'Attr9', 'Attr12', 'Attr13',\n",
       "       'Attr15', 'Attr16', 'Attr17', 'Attr19', 'Attr20', 'Attr23', 'Attr24',\n",
       "       'Attr25', 'Attr26', 'Attr27', 'Attr29', 'Attr30', 'Attr32', 'Attr34',\n",
       "       'Attr35', 'Attr37', 'Attr38', 'Attr39', 'Attr41', 'Attr42', 'Attr45',\n",
       "       'Attr46', 'Attr48', 'Attr49', 'Attr50', 'Attr53', 'Attr54', 'Attr55',\n",
       "       'Attr56', 'Attr58', 'Attr59', 'Attr61', 'Attr62', 'Attr64'],\n",
       "      dtype='object')"
      ]
     },
     "execution_count": 27,
     "metadata": {},
     "output_type": "execute_result"
    }
   ],
   "source": [
    "features = x_train_res.columns[sel.get_support()]\n",
    "features"
   ]
  },
  {
   "cell_type": "code",
   "execution_count": 28,
   "metadata": {},
   "outputs": [
    {
     "name": "stdout",
     "output_type": "stream",
     "text": [
      "Selected Feature :  41\n",
      "Accuracy:  0.963\n",
      "\n"
     ]
    }
   ],
   "source": [
    "sel = RFE(RandomForestClassifier(n_estimators=100, random_state=0, n_jobs=-1), n_features_to_select = 36)\n",
    "sel.fit(x_train_res, y_train_res)\n",
    "x_train_rfe = sel.transform(x_train_res)\n",
    "x_test_rfe = sel.transform(x_test)\n",
    "print('Selected Feature : ', 41)\n",
    "run_randomForest(x_train_rfe, x_test_rfe, y_train_res, y_test.values.ravel())\n",
    "print()"
   ]
  },
  {
   "cell_type": "code",
   "execution_count": 29,
   "metadata": {},
   "outputs": [
    {
     "data": {
      "text/plain": [
       "Index(['Attr1', 'Attr2', 'Attr5', 'Attr6', 'Attr9', 'Attr12', 'Attr13',\n",
       "       'Attr15', 'Attr16', 'Attr17', 'Attr19', 'Attr20', 'Attr23', 'Attr25',\n",
       "       'Attr26', 'Attr27', 'Attr29', 'Attr30', 'Attr32', 'Attr34', 'Attr35',\n",
       "       'Attr37', 'Attr38', 'Attr39', 'Attr41', 'Attr46', 'Attr48', 'Attr49',\n",
       "       'Attr50', 'Attr53', 'Attr55', 'Attr58', 'Attr59', 'Attr61', 'Attr62',\n",
       "       'Attr64'],\n",
       "      dtype='object')"
      ]
     },
     "execution_count": 29,
     "metadata": {},
     "output_type": "execute_result"
    }
   ],
   "source": [
    "features = x_train_res.columns[sel.get_support()]\n",
    "features"
   ]
  },
  {
   "cell_type": "code",
   "execution_count": 30,
   "metadata": {},
   "outputs": [
    {
     "name": "stdout",
     "output_type": "stream",
     "text": [
      "Selected Feature :  13\n",
      "Accuracy:  0.951\n",
      "\n"
     ]
    }
   ],
   "source": [
    "sel = RFE(RandomForestClassifier(n_estimators=100, random_state=0, n_jobs=-1), n_features_to_select = 13)\n",
    "sel.fit(x_train_res, y_train_res)\n",
    "x_train_rfe = sel.transform(x_train_res)\n",
    "x_test_rfe = sel.transform(x_test)\n",
    "print('Selected Feature : ', 13)\n",
    "run_randomForest(x_train_rfe, x_test_rfe, y_train_res, y_test.values.ravel())\n",
    "print()"
   ]
  },
  {
   "cell_type": "code",
   "execution_count": 31,
   "metadata": {},
   "outputs": [
    {
     "data": {
      "text/plain": [
       "Index(['Attr5', 'Attr6', 'Attr9', 'Attr13', 'Attr16', 'Attr25', 'Attr26',\n",
       "       'Attr27', 'Attr29', 'Attr34', 'Attr39', 'Attr50', 'Attr58'],\n",
       "      dtype='object')"
      ]
     },
     "execution_count": 31,
     "metadata": {},
     "output_type": "execute_result"
    }
   ],
   "source": [
    "features = x_train_res.columns[sel.get_support()]\n",
    "features"
   ]
  },
  {
   "cell_type": "code",
   "execution_count": 32,
   "metadata": {},
   "outputs": [
    {
     "name": "stdout",
     "output_type": "stream",
     "text": [
      "Selected Feature :  3\n",
      "Accuracy:  0.8185\n",
      "\n"
     ]
    }
   ],
   "source": [
    "sel = RFE(RandomForestClassifier(n_estimators=100, random_state=0, n_jobs=-1), n_features_to_select = 3)\n",
    "sel.fit(x_train_res, y_train_res)\n",
    "x_train_rfe = sel.transform(x_train_res)\n",
    "x_test_rfe = sel.transform(x_test)\n",
    "print('Selected Feature : ', 3)\n",
    "run_randomForest(x_train_rfe, x_test_rfe, y_train_res, y_test.values.ravel())\n",
    "print()"
   ]
  },
  {
   "cell_type": "code",
   "execution_count": 33,
   "metadata": {},
   "outputs": [
    {
     "data": {
      "text/plain": [
       "Index(['Attr16', 'Attr26', 'Attr34'], dtype='object')"
      ]
     },
     "execution_count": 33,
     "metadata": {},
     "output_type": "execute_result"
    }
   ],
   "source": [
    "features = x_train_res.columns[sel.get_support()]\n",
    "features"
   ]
  },
  {
   "cell_type": "code",
   "execution_count": 34,
   "metadata": {},
   "outputs": [
    {
     "name": "stdout",
     "output_type": "stream",
     "text": [
      "Selected Feature :  1\n",
      "Accuracy:  0.6545\n",
      "\n"
     ]
    }
   ],
   "source": [
    "sel = RFE(RandomForestClassifier(n_estimators=100, random_state=0, n_jobs=-1), n_features_to_select = 1)\n",
    "sel.fit(x_train_res, y_train_res)\n",
    "x_train_rfe = sel.transform(x_train_res)\n",
    "x_test_rfe = sel.transform(x_test)\n",
    "print('Selected Feature : ', 1)\n",
    "run_randomForest(x_train_rfe, x_test_rfe, y_train_res, y_test.values.ravel())\n",
    "print()"
   ]
  },
  {
   "cell_type": "code",
   "execution_count": 35,
   "metadata": {},
   "outputs": [
    {
     "data": {
      "text/plain": [
       "Index(['Attr26'], dtype='object')"
      ]
     },
     "execution_count": 35,
     "metadata": {},
     "output_type": "execute_result"
    }
   ],
   "source": [
    "features = x_train_res.columns[sel.get_support()]\n",
    "features"
   ]
  },
  {
   "cell_type": "code",
   "execution_count": null,
   "metadata": {},
   "outputs": [],
   "source": []
  }
 ],
 "metadata": {
  "kernelspec": {
   "display_name": "Python 3",
   "language": "python",
   "name": "python3"
  },
  "language_info": {
   "codemirror_mode": {
    "name": "ipython",
    "version": 3
   },
   "file_extension": ".py",
   "mimetype": "text/x-python",
   "name": "python",
   "nbconvert_exporter": "python",
   "pygments_lexer": "ipython3",
   "version": "3.8.3"
  }
 },
 "nbformat": 4,
 "nbformat_minor": 4
}
