{
 "cells": [
  {
   "cell_type": "code",
   "execution_count": 1,
   "metadata": {},
   "outputs": [],
   "source": [
    "import numpy as np\n",
    "import pandas as pd\n",
    "import seaborn as sns\n",
    "import matplotlib.pyplot as plt\n",
    "import sklearn.metrics as sm\n",
    "get_ipython().run_line_magic('matplotlib', 'inline')\n"
   ]
  },
  {
   "cell_type": "code",
   "execution_count": 2,
   "metadata": {},
   "outputs": [],
   "source": [
    "from sklearn.model_selection import train_test_split\n",
    "from sklearn.ensemble import RandomForestClassifier\n",
    "from sklearn.feature_selection import SelectFromModel\n",
    "from sklearn.metrics import accuracy_score"
   ]
  },
  {
   "cell_type": "code",
   "execution_count": 3,
   "metadata": {},
   "outputs": [],
   "source": [
    "def run_randomForest(x_train, x_test, y_train, y_test):\n",
    "    clf = RandomForestClassifier(n_estimators=100, random_state=0, n_jobs=-1)\n",
    "    clf.fit(x_train, y_train)\n",
    "    y_pred = clf.predict(x_test)\n",
    "    print('Accuracy: ',accuracy_score(y_test, y_pred))\n"
   ]
  },
  {
   "cell_type": "code",
   "execution_count": 4,
   "metadata": {},
   "outputs": [],
   "source": [
    "data = pd.read_csv(\"C:/Users/User10/Desktop/final year/fyp/dataset/bankruptcyTrainSelected.csv\")"
   ]
  },
  {
   "cell_type": "code",
   "execution_count": 5,
   "metadata": {},
   "outputs": [
    {
     "data": {
      "text/html": [
       "<div>\n",
       "<style scoped>\n",
       "    .dataframe tbody tr th:only-of-type {\n",
       "        vertical-align: middle;\n",
       "    }\n",
       "\n",
       "    .dataframe tbody tr th {\n",
       "        vertical-align: top;\n",
       "    }\n",
       "\n",
       "    .dataframe thead th {\n",
       "        text-align: right;\n",
       "    }\n",
       "</style>\n",
       "<table border=\"1\" class=\"dataframe\">\n",
       "  <thead>\n",
       "    <tr style=\"text-align: right;\">\n",
       "      <th></th>\n",
       "      <th>Attr16</th>\n",
       "      <th>Attr24</th>\n",
       "      <th>Attr25</th>\n",
       "      <th>Attr27</th>\n",
       "      <th>Attr34</th>\n",
       "      <th>Attr39</th>\n",
       "      <th>Attr46</th>\n",
       "      <th>Attr54</th>\n",
       "      <th>Attr55</th>\n",
       "      <th>Attr56</th>\n",
       "      <th>Attr58</th>\n",
       "      <th>Attr60</th>\n",
       "      <th>class</th>\n",
       "    </tr>\n",
       "  </thead>\n",
       "  <tbody>\n",
       "    <tr>\n",
       "      <th>0</th>\n",
       "      <td>-0.242796</td>\n",
       "      <td>-0.004522</td>\n",
       "      <td>0.050225</td>\n",
       "      <td>-0.009990</td>\n",
       "      <td>-0.144382</td>\n",
       "      <td>-0.016173</td>\n",
       "      <td>0.147450</td>\n",
       "      <td>-0.018113</td>\n",
       "      <td>-0.110578</td>\n",
       "      <td>0.014367</td>\n",
       "      <td>-0.014143</td>\n",
       "      <td>0.068399</td>\n",
       "      <td>0</td>\n",
       "    </tr>\n",
       "    <tr>\n",
       "      <th>1</th>\n",
       "      <td>-0.603332</td>\n",
       "      <td>0.048932</td>\n",
       "      <td>0.274101</td>\n",
       "      <td>-0.010933</td>\n",
       "      <td>1.228971</td>\n",
       "      <td>-0.052642</td>\n",
       "      <td>-0.013532</td>\n",
       "      <td>-0.014462</td>\n",
       "      <td>-0.114919</td>\n",
       "      <td>0.008492</td>\n",
       "      <td>-0.008666</td>\n",
       "      <td>-0.033498</td>\n",
       "      <td>0</td>\n",
       "    </tr>\n",
       "    <tr>\n",
       "      <th>2</th>\n",
       "      <td>-0.367159</td>\n",
       "      <td>0.030648</td>\n",
       "      <td>-0.114349</td>\n",
       "      <td>-0.009932</td>\n",
       "      <td>0.059970</td>\n",
       "      <td>0.068469</td>\n",
       "      <td>-0.234744</td>\n",
       "      <td>-0.019637</td>\n",
       "      <td>-0.123266</td>\n",
       "      <td>0.010819</td>\n",
       "      <td>-0.009437</td>\n",
       "      <td>-0.043455</td>\n",
       "      <td>0</td>\n",
       "    </tr>\n",
       "    <tr>\n",
       "      <th>3</th>\n",
       "      <td>-0.454498</td>\n",
       "      <td>-0.038157</td>\n",
       "      <td>-0.105949</td>\n",
       "      <td>-0.009921</td>\n",
       "      <td>-0.643082</td>\n",
       "      <td>0.071021</td>\n",
       "      <td>-0.067912</td>\n",
       "      <td>-0.019978</td>\n",
       "      <td>-0.077078</td>\n",
       "      <td>0.010683</td>\n",
       "      <td>-0.010840</td>\n",
       "      <td>-0.042828</td>\n",
       "      <td>0</td>\n",
       "    </tr>\n",
       "    <tr>\n",
       "      <th>4</th>\n",
       "      <td>0.744187</td>\n",
       "      <td>0.107718</td>\n",
       "      <td>-0.127631</td>\n",
       "      <td>-0.009057</td>\n",
       "      <td>0.891985</td>\n",
       "      <td>0.076296</td>\n",
       "      <td>0.049879</td>\n",
       "      <td>-0.010739</td>\n",
       "      <td>-0.076644</td>\n",
       "      <td>0.010970</td>\n",
       "      <td>-0.011056</td>\n",
       "      <td>-0.035892</td>\n",
       "      <td>0</td>\n",
       "    </tr>\n",
       "  </tbody>\n",
       "</table>\n",
       "</div>"
      ],
      "text/plain": [
       "     Attr16    Attr24    Attr25    Attr27    Attr34    Attr39    Attr46  \\\n",
       "0 -0.242796 -0.004522  0.050225 -0.009990 -0.144382 -0.016173  0.147450   \n",
       "1 -0.603332  0.048932  0.274101 -0.010933  1.228971 -0.052642 -0.013532   \n",
       "2 -0.367159  0.030648 -0.114349 -0.009932  0.059970  0.068469 -0.234744   \n",
       "3 -0.454498 -0.038157 -0.105949 -0.009921 -0.643082  0.071021 -0.067912   \n",
       "4  0.744187  0.107718 -0.127631 -0.009057  0.891985  0.076296  0.049879   \n",
       "\n",
       "     Attr54    Attr55    Attr56    Attr58    Attr60  class  \n",
       "0 -0.018113 -0.110578  0.014367 -0.014143  0.068399      0  \n",
       "1 -0.014462 -0.114919  0.008492 -0.008666 -0.033498      0  \n",
       "2 -0.019637 -0.123266  0.010819 -0.009437 -0.043455      0  \n",
       "3 -0.019978 -0.077078  0.010683 -0.010840 -0.042828      0  \n",
       "4 -0.010739 -0.076644  0.010970 -0.011056 -0.035892      0  "
      ]
     },
     "execution_count": 5,
     "metadata": {},
     "output_type": "execute_result"
    }
   ],
   "source": [
    "data.head()"
   ]
  },
  {
   "cell_type": "code",
   "execution_count": 6,
   "metadata": {},
   "outputs": [
    {
     "data": {
      "text/plain": [
       "(10000, 12)"
      ]
     },
     "execution_count": 6,
     "metadata": {},
     "output_type": "execute_result"
    }
   ],
   "source": [
    "x = data.iloc[:,0:12]\n",
    "x.shape"
   ]
  },
  {
   "cell_type": "code",
   "execution_count": 7,
   "metadata": {},
   "outputs": [
    {
     "data": {
      "text/html": [
       "<div>\n",
       "<style scoped>\n",
       "    .dataframe tbody tr th:only-of-type {\n",
       "        vertical-align: middle;\n",
       "    }\n",
       "\n",
       "    .dataframe tbody tr th {\n",
       "        vertical-align: top;\n",
       "    }\n",
       "\n",
       "    .dataframe thead th {\n",
       "        text-align: right;\n",
       "    }\n",
       "</style>\n",
       "<table border=\"1\" class=\"dataframe\">\n",
       "  <thead>\n",
       "    <tr style=\"text-align: right;\">\n",
       "      <th></th>\n",
       "      <th>Attr16</th>\n",
       "      <th>Attr24</th>\n",
       "      <th>Attr25</th>\n",
       "      <th>Attr27</th>\n",
       "      <th>Attr34</th>\n",
       "      <th>Attr39</th>\n",
       "      <th>Attr46</th>\n",
       "      <th>Attr54</th>\n",
       "      <th>Attr55</th>\n",
       "      <th>Attr56</th>\n",
       "      <th>Attr58</th>\n",
       "      <th>Attr60</th>\n",
       "    </tr>\n",
       "  </thead>\n",
       "  <tbody>\n",
       "    <tr>\n",
       "      <th>0</th>\n",
       "      <td>-0.242796</td>\n",
       "      <td>-0.004522</td>\n",
       "      <td>0.050225</td>\n",
       "      <td>-0.009990</td>\n",
       "      <td>-0.144382</td>\n",
       "      <td>-0.016173</td>\n",
       "      <td>0.147450</td>\n",
       "      <td>-0.018113</td>\n",
       "      <td>-0.110578</td>\n",
       "      <td>0.014367</td>\n",
       "      <td>-0.014143</td>\n",
       "      <td>0.068399</td>\n",
       "    </tr>\n",
       "    <tr>\n",
       "      <th>1</th>\n",
       "      <td>-0.603332</td>\n",
       "      <td>0.048932</td>\n",
       "      <td>0.274101</td>\n",
       "      <td>-0.010933</td>\n",
       "      <td>1.228971</td>\n",
       "      <td>-0.052642</td>\n",
       "      <td>-0.013532</td>\n",
       "      <td>-0.014462</td>\n",
       "      <td>-0.114919</td>\n",
       "      <td>0.008492</td>\n",
       "      <td>-0.008666</td>\n",
       "      <td>-0.033498</td>\n",
       "    </tr>\n",
       "    <tr>\n",
       "      <th>2</th>\n",
       "      <td>-0.367159</td>\n",
       "      <td>0.030648</td>\n",
       "      <td>-0.114349</td>\n",
       "      <td>-0.009932</td>\n",
       "      <td>0.059970</td>\n",
       "      <td>0.068469</td>\n",
       "      <td>-0.234744</td>\n",
       "      <td>-0.019637</td>\n",
       "      <td>-0.123266</td>\n",
       "      <td>0.010819</td>\n",
       "      <td>-0.009437</td>\n",
       "      <td>-0.043455</td>\n",
       "    </tr>\n",
       "    <tr>\n",
       "      <th>3</th>\n",
       "      <td>-0.454498</td>\n",
       "      <td>-0.038157</td>\n",
       "      <td>-0.105949</td>\n",
       "      <td>-0.009921</td>\n",
       "      <td>-0.643082</td>\n",
       "      <td>0.071021</td>\n",
       "      <td>-0.067912</td>\n",
       "      <td>-0.019978</td>\n",
       "      <td>-0.077078</td>\n",
       "      <td>0.010683</td>\n",
       "      <td>-0.010840</td>\n",
       "      <td>-0.042828</td>\n",
       "    </tr>\n",
       "    <tr>\n",
       "      <th>4</th>\n",
       "      <td>0.744187</td>\n",
       "      <td>0.107718</td>\n",
       "      <td>-0.127631</td>\n",
       "      <td>-0.009057</td>\n",
       "      <td>0.891985</td>\n",
       "      <td>0.076296</td>\n",
       "      <td>0.049879</td>\n",
       "      <td>-0.010739</td>\n",
       "      <td>-0.076644</td>\n",
       "      <td>0.010970</td>\n",
       "      <td>-0.011056</td>\n",
       "      <td>-0.035892</td>\n",
       "    </tr>\n",
       "  </tbody>\n",
       "</table>\n",
       "</div>"
      ],
      "text/plain": [
       "     Attr16    Attr24    Attr25    Attr27    Attr34    Attr39    Attr46  \\\n",
       "0 -0.242796 -0.004522  0.050225 -0.009990 -0.144382 -0.016173  0.147450   \n",
       "1 -0.603332  0.048932  0.274101 -0.010933  1.228971 -0.052642 -0.013532   \n",
       "2 -0.367159  0.030648 -0.114349 -0.009932  0.059970  0.068469 -0.234744   \n",
       "3 -0.454498 -0.038157 -0.105949 -0.009921 -0.643082  0.071021 -0.067912   \n",
       "4  0.744187  0.107718 -0.127631 -0.009057  0.891985  0.076296  0.049879   \n",
       "\n",
       "     Attr54    Attr55    Attr56    Attr58    Attr60  \n",
       "0 -0.018113 -0.110578  0.014367 -0.014143  0.068399  \n",
       "1 -0.014462 -0.114919  0.008492 -0.008666 -0.033498  \n",
       "2 -0.019637 -0.123266  0.010819 -0.009437 -0.043455  \n",
       "3 -0.019978 -0.077078  0.010683 -0.010840 -0.042828  \n",
       "4 -0.010739 -0.076644  0.010970 -0.011056 -0.035892  "
      ]
     },
     "execution_count": 7,
     "metadata": {},
     "output_type": "execute_result"
    }
   ],
   "source": [
    "x.head()"
   ]
  },
  {
   "cell_type": "code",
   "execution_count": 8,
   "metadata": {},
   "outputs": [
    {
     "data": {
      "text/plain": [
       "(10000, 1)"
      ]
     },
     "execution_count": 8,
     "metadata": {},
     "output_type": "execute_result"
    }
   ],
   "source": [
    "y = data.iloc[:,12:13]\n",
    "y.shape"
   ]
  },
  {
   "cell_type": "code",
   "execution_count": 9,
   "metadata": {},
   "outputs": [
    {
     "data": {
      "text/html": [
       "<div>\n",
       "<style scoped>\n",
       "    .dataframe tbody tr th:only-of-type {\n",
       "        vertical-align: middle;\n",
       "    }\n",
       "\n",
       "    .dataframe tbody tr th {\n",
       "        vertical-align: top;\n",
       "    }\n",
       "\n",
       "    .dataframe thead th {\n",
       "        text-align: right;\n",
       "    }\n",
       "</style>\n",
       "<table border=\"1\" class=\"dataframe\">\n",
       "  <thead>\n",
       "    <tr style=\"text-align: right;\">\n",
       "      <th></th>\n",
       "      <th>class</th>\n",
       "    </tr>\n",
       "  </thead>\n",
       "  <tbody>\n",
       "    <tr>\n",
       "      <th>0</th>\n",
       "      <td>0</td>\n",
       "    </tr>\n",
       "    <tr>\n",
       "      <th>1</th>\n",
       "      <td>0</td>\n",
       "    </tr>\n",
       "    <tr>\n",
       "      <th>2</th>\n",
       "      <td>0</td>\n",
       "    </tr>\n",
       "    <tr>\n",
       "      <th>3</th>\n",
       "      <td>0</td>\n",
       "    </tr>\n",
       "    <tr>\n",
       "      <th>4</th>\n",
       "      <td>0</td>\n",
       "    </tr>\n",
       "  </tbody>\n",
       "</table>\n",
       "</div>"
      ],
      "text/plain": [
       "   class\n",
       "0      0\n",
       "1      0\n",
       "2      0\n",
       "3      0\n",
       "4      0"
      ]
     },
     "execution_count": 9,
     "metadata": {},
     "output_type": "execute_result"
    }
   ],
   "source": [
    "y.head()"
   ]
  },
  {
   "cell_type": "code",
   "execution_count": 10,
   "metadata": {},
   "outputs": [
    {
     "data": {
      "text/plain": [
       "((8000, 12), (2000, 12), (8000, 1), (2000, 1))"
      ]
     },
     "execution_count": 10,
     "metadata": {},
     "output_type": "execute_result"
    }
   ],
   "source": [
    "x_train, x_test, y_train, y_test = train_test_split(x,y, test_size = 0.2, random_state = 0)\n",
    "x_train.shape, x_test.shape, y_train.shape, y_test.shape"
   ]
  },
  {
   "cell_type": "code",
   "execution_count": 11,
   "metadata": {},
   "outputs": [
    {
     "data": {
      "text/plain": [
       "RandomForestClassifier()"
      ]
     },
     "execution_count": 11,
     "metadata": {},
     "output_type": "execute_result"
    }
   ],
   "source": [
    "model = RandomForestClassifier(n_estimators= 100)\n",
    "model.fit(x_train, y_train.values.ravel())"
   ]
  },
  {
   "cell_type": "code",
   "execution_count": 12,
   "metadata": {},
   "outputs": [
    {
     "data": {
      "text/plain": [
       "0.975"
      ]
     },
     "execution_count": 12,
     "metadata": {},
     "output_type": "execute_result"
    }
   ],
   "source": [
    "model.score(x_test,y_test)"
   ]
  },
  {
   "cell_type": "code",
   "execution_count": 13,
   "metadata": {},
   "outputs": [],
   "source": [
    "y_predicted = model.predict(x_test)"
   ]
  },
  {
   "cell_type": "code",
   "execution_count": 14,
   "metadata": {},
   "outputs": [
    {
     "data": {
      "text/plain": [
       "array([[1948,    0],\n",
       "       [  50,    2]], dtype=int64)"
      ]
     },
     "execution_count": 14,
     "metadata": {},
     "output_type": "execute_result"
    }
   ],
   "source": [
    "from sklearn.metrics import confusion_matrix\n",
    "cm = confusion_matrix(y_test, y_predicted)\n",
    "cm"
   ]
  },
  {
   "cell_type": "code",
   "execution_count": 15,
   "metadata": {},
   "outputs": [
    {
     "data": {
      "image/png": "[encoded data removed]",
      "text/plain": [
       "<Figure size 720x504 with 2 Axes>"
      ]
     },
     "metadata": {
      "needs_background": "light"
     },
     "output_type": "display_data"
    }
   ],
   "source": [
    "import seaborn as sn\n",
    "plt.figure(figsize=(10,7))\n",
    "sn.heatmap(cm, annot=True)\n",
    "plt.xlabel('Predicted')\n",
    "plt.ylabel('Truth')\n",
    "all_sample_title = 'Accuracy Score: {0}'.format(sm.accuracy_score(y_test, y_predicted))\n",
    "plt.title(all_sample_title, size = 15);"
   ]
  },
  {
   "cell_type": "code",
   "execution_count": 16,
   "metadata": {},
   "outputs": [],
   "source": [
    "y_predicted = model.predict_proba(x_test)"
   ]
  },
  {
   "cell_type": "code",
   "execution_count": 17,
   "metadata": {},
   "outputs": [
    {
     "data": {
      "text/plain": [
       "array([[0.26, 0.74]])"
      ]
     },
     "execution_count": 17,
     "metadata": {},
     "output_type": "execute_result"
    }
   ],
   "source": [
    "#### >> Let's predict\n",
    "\n",
    "newData = [[-0.979606056,\n",
    "            -0.192202087,\n",
    "            -0.800840553,\n",
    "            -0.010527156,\n",
    "            0.660372746,\n",
    "            -0.091648878,\n",
    "            -0.302513672,\n",
    "            -0.024110246,\n",
    "            -0.156974547,\n",
    "            0.007742581,\n",
    "            -0.007769404,\n",
    "            0.027978043]]\n",
    "\n",
    "predictionResultProba = model.predict_proba(newData)\n",
    "predictionResultProba"
   ]
  },
  {
   "cell_type": "code",
   "execution_count": 18,
   "metadata": {},
   "outputs": [
    {
     "name": "stdout",
     "output_type": "stream",
     "text": [
      "Prediction result = Bankrupt\n"
     ]
    }
   ],
   "source": [
    "\n",
    "predictionResult = model.predict(newData)\n",
    "\n",
    "if(predictionResult == 0):\n",
    "    print(\"Prediction result = Did Not Bankrupt\")\n",
    "else:\n",
    "    print(\"Prediction result = Bankrupt\")\n"
   ]
  },
  {
   "cell_type": "code",
   "execution_count": 19,
   "metadata": {},
   "outputs": [],
   "source": [
    "notbnk = predictionResultProba[0][0]\n",
    "bnk = predictionResultProba[0][1]"
   ]
  },
  {
   "cell_type": "code",
   "execution_count": 20,
   "metadata": {},
   "outputs": [
    {
     "data": {
      "image/png": "[encoded data removed]",
      "text/plain": [
       "<Figure size 432x288 with 1 Axes>"
      ]
     },
     "metadata": {
      "needs_background": "light"
     },
     "output_type": "display_data"
    }
   ],
   "source": [
    "def visual():\n",
    "    plt.bar('Not Bankrupt', notbnk)\n",
    "    plt.bar('Bankrupt', bnk)\n",
    "    plt.legend(['Not Bankrupt = ' \"{:.0%}\".format(notbnk),'Bankrupt = '\"{:.0%}\".format(bnk)])\n",
    "    plt.title('Bankruptcy Prediction Probability')\n",
    "    plt.show()\n",
    "visual()"
   ]
  },
  {
   "cell_type": "code",
   "execution_count": 21,
   "metadata": {},
   "outputs": [
    {
     "data": {
      "text/plain": [
       "['bankruptcyPredictionModel.joblib']"
      ]
     },
     "execution_count": 21,
     "metadata": {},
     "output_type": "execute_result"
    }
   ],
   "source": [
    "from joblib import dump, load\n",
    "dump(model,'bankruptcyPredictionModel.joblib')"
   ]
  },
  {
   "cell_type": "code",
   "execution_count": 22,
   "metadata": {},
   "outputs": [
    {
     "data": {
      "image/png": "[encoded data removed]",
      "text/plain": [
       "<Figure size 432x288 with 1 Axes>"
      ]
     },
     "metadata": {
      "needs_background": "light"
     },
     "output_type": "display_data"
    },
    {
     "data": {
      "text/plain": [
       "['visual.joblib']"
      ]
     },
     "execution_count": 22,
     "metadata": {},
     "output_type": "execute_result"
    }
   ],
   "source": [
    "from joblib import dump, load\n",
    "dump(visual(),'visual.joblib')"
   ]
  },
  {
   "cell_type": "code",
   "execution_count": 23,
   "metadata": {},
   "outputs": [
    {
     "name": "stdout",
     "output_type": "stream",
     "text": [
      "8\n"
     ]
    }
   ],
   "source": [
    "import ctypes\n",
    "print (ctypes.sizeof(ctypes.c_voidp))"
   ]
  },
  {
   "cell_type": "code",
   "execution_count": null,
   "metadata": {},
   "outputs": [],
   "source": []
  }
 ],
 "metadata": {
  "kernelspec": {
   "display_name": "Python 3",
   "language": "python",
   "name": "python3"
  },
  "language_info": {
   "codemirror_mode": {
    "name": "ipython",
    "version": 3
   },
   "file_extension": ".py",
   "mimetype": "text/x-python",
   "name": "python",
   "nbconvert_exporter": "python",
   "pygments_lexer": "ipython3",
   "version": "3.8.3"
  }
 },
 "nbformat": 4,
 "nbformat_minor": 4
}
